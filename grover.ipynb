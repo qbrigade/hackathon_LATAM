{
 "cells": [
  {
   "cell_type": "code",
   "execution_count": 3,
   "id": "0b627710",
   "metadata": {},
   "outputs": [],
   "source": [
    "from QUBO_grover import *\n",
    "\n",
    "from docplex.mp.model import Model\n",
    "from qiskit.primitives import StatevectorSampler\n",
    "from qiskit_optimization.algorithms import GroverOptimizer, MinimumEigenOptimizer\n",
    "from qiskit_optimization.minimum_eigensolvers import NumPyMinimumEigensolver\n",
    "from qiskit_optimization.translators import from_docplex_mp"
   ]
  },
  {
   "cell_type": "code",
   "execution_count": 7,
   "id": "bbc49a20",
   "metadata": {},
   "outputs": [
    {
     "name": "stdout",
     "output_type": "stream",
     "text": [
      "Problem name: docplex_model5\n",
      "\n",
      "Minimize\n",
      "  2*x0*x1 - 5*x0*x2 + x0 + x1 + 3*x2\n",
      "\n",
      "Subject to\n",
      "  No constraints\n",
      "\n",
      "  Binary variables (3)\n",
      "    x0 x1 x2\n",
      "\n"
     ]
    }
   ],
   "source": [
    "from docplex.mp.model import Model\n",
    "import numpy as np\n",
    "\n",
    "import numpy as np\n",
    "from docplex.mp.model import Model\n",
    "from qiskit_optimization.translators import from_docplex_mp\n",
    "\n",
    "def qubo_to_model(Q):\n",
    "    \"\"\"\n",
    "    Given a QUBO matrix Q, returns a docplex model and the equivalent QuadraticProgram.\n",
    "    \n",
    "    Q must be a square numpy array (symmetric preferred).\n",
    "    \"\"\"\n",
    "    n = Q.shape[0]\n",
    "    model = Model()\n",
    "    \n",
    "    # Create binary variables\n",
    "    x = [model.binary_var(name=f\"x{i}\") for i in range(n)]\n",
    "    \n",
    "    # Build objective: sum of linear + quadratic terms\n",
    "    objective = 0\n",
    "    for i in range(n):\n",
    "        objective += Q[i, i] * x[i]  # linear terms\n",
    "        for j in range(i+1, n):\n",
    "            if Q[i, j] != 0:\n",
    "                objective += Q[i, j] * x[i] * x[j]  # quadratic terms\n",
    "    \n",
    "    model.minimize(objective)\n",
    "    \n",
    "    # Convert to QuadraticProgram\n",
    "    qp = from_docplex_mp(model)\n",
    "    return model, qp\n",
    "\n",
    "# ---------------- Example ----------------\n",
    "Q = np.array([[ 1,  2, -5],\n",
    "              [ 2,  1,  0],\n",
    "              [-5, 0,  3]])\n",
    "\n",
    "model, qp = qubo_to_model(Q)\n",
    "print(qp.prettyprint())\n"
   ]
  },
  {
   "cell_type": "code",
   "execution_count": 8,
   "id": "19ed634c",
   "metadata": {},
   "outputs": [
    {
     "name": "stdout",
     "output_type": "stream",
     "text": [
      "Problem name: docplex_model6\n",
      "\n",
      "Minimize\n",
      "  2*x0*x1 - 5*x0*x2 + x0 + x1 + 3*x2\n",
      "\n",
      "Subject to\n",
      "  No constraints\n",
      "\n",
      "  Binary variables (3)\n",
      "    x0 x1 x2\n",
      "\n",
      "objective function value: 4.0\n",
      "variable values: x0=0.0, x1=1.0, x2=1.0\n",
      "status: SUCCESS\n"
     ]
    }
   ],
   "source": [
    "model, qp = qubo_to_model(Q)\n",
    "print(qp.prettyprint())\n",
    "\n",
    "\n",
    "grover_optimizer = GroverOptimizer(3, num_iterations=10, sampler=StatevectorSampler(seed=123))\n",
    "results = grover_optimizer.solve(qp)\n",
    "print(results.prettyprint())"
   ]
  }
 ],
 "metadata": {
  "kernelspec": {
   "display_name": "qiskit1.x",
   "language": "python",
   "name": "python3"
  },
  "language_info": {
   "codemirror_mode": {
    "name": "ipython",
    "version": 3
   },
   "file_extension": ".py",
   "mimetype": "text/x-python",
   "name": "python",
   "nbconvert_exporter": "python",
   "pygments_lexer": "ipython3",
   "version": "3.12.3"
  }
 },
 "nbformat": 4,
 "nbformat_minor": 5
}
